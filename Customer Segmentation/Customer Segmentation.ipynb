{
 "cells": [
  {
   "cell_type": "code",
   "execution_count": null,
   "metadata": {
    "vscode": {
     "languageId": "plaintext"
    }
   },
   "outputs": [],
   "source": [
    "# Re-import necessary libraries as execution state was reset\n",
    "import pandas as pd\n",
    "import numpy as np\n",
    "import matplotlib.pyplot as plt\n",
    "\n",
    "# Generate a synthetic dataset of customer transactions\n",
    "np.random.seed(42)\n",
    "num_customers = 200\n",
    "num_transactions = 1000\n",
    "\n",
    "# Generate random customer IDs\n",
    "customer_ids = [f\"CUST{str(i).zfill(4)}\" for i in range(1, num_customers + 1)]\n",
    "\n",
    "# Generate random transaction data\n",
    "data = []\n",
    "for _ in range(num_transactions):\n",
    "    customer_id = np.random.choice(customer_ids)\n",
    "    transaction_date = pd.Timestamp(\"2024-01-01\") + pd.to_timedelta(np.random.randint(0, 90), unit='D')\n",
    "    transaction_amount = round(np.random.uniform(5, 500), 2)\n",
    "    data.append([customer_id, transaction_date, transaction_amount])\n",
    "\n",
    "# Create DataFrame\n",
    "df = pd.DataFrame(data, columns=[\"Customer_ID\", \"Transaction_Date\", \"Transaction_Amount\"])\n",
    "\n",
    "# Ensure data is sorted\n",
    "df = df.sort_values(by=[\"Customer_ID\", \"Transaction_Date\"])\n",
    "\n",
    "# 1. Classify High-Spending vs Occasional Customers\n",
    "customer_spending = df.groupby(\"Customer_ID\")[\"Transaction_Amount\"].sum().reset_index()\n",
    "customer_spending[\"Customer_Type\"] = np.where(customer_spending[\"Transaction_Amount\"] > 2000, \"High-Spender\", \"Occasional\")\n",
    "\n",
    "# 2. Identify Customer Buying Patterns (Avg Transactions per Month)\n",
    "df[\"Month\"] = df[\"Transaction_Date\"].dt.to_period(\"M\")\n",
    "customer_monthly_purchases = df.groupby([\"Customer_ID\", \"Month\"]).size().reset_index(name=\"Transactions_Per_Month\")\n",
    "avg_transactions_per_month = customer_monthly_purchases.groupby(\"Customer_ID\")[\"Transactions_Per_Month\"].mean().reset_index()\n",
    "avg_transactions_per_month.columns = [\"Customer_ID\", \"Avg_Transactions_Per_Month\"]\n",
    "\n",
    "# 3. Find VIP Customers for Marketing Campaigns (Top 10% Spenders)\n",
    "vip_threshold = customer_spending[\"Transaction_Amount\"].quantile(0.90)\n",
    "customer_spending[\"VIP_Customer\"] = np.where(customer_spending[\"Transaction_Amount\"] >= vip_threshold, 1, 0)\n",
    "\n",
    "# Merge the classifications into the main dataset\n",
    "customer_analysis = customer_spending.merge(avg_transactions_per_month, on=\"Customer_ID\")\n",
    "\n",
    "# Display the generated dataset with customer insights\n",
    "import ace_tools as tools\n",
    "tools.display_dataframe_to_user(name=\"Customer Transaction Insights\", dataframe=customer_analysis)\n",
    "\n",
    "# Plot Spending Distribution\n",
    "plt.figure(figsize=(10, 5))\n",
    "plt.hist(customer_spending[\"Transaction_Amount\"], bins=20, color=\"skyblue\", edgecolor=\"black\")\n",
    "plt.axvline(vip_threshold, color='red', linestyle='dashed', linewidth=2, label=\"VIP Threshold\")\n",
    "plt.xlabel(\"Total Transaction Amount ($)\")\n",
    "plt.ylabel(\"Number of Customers\")\n",
    "plt.title(\"Customer Spending Distribution\")\n",
    "plt.legend()\n",
    "plt.show()\n"
   ]
  },
  {
   "cell_type": "code",
   "execution_count": null,
   "metadata": {
    "vscode": {
     "languageId": "plaintext"
    }
   },
   "outputs": [],
   "source": []
  },
  {
   "cell_type": "code",
   "execution_count": null,
   "metadata": {
    "vscode": {
     "languageId": "plaintext"
    }
   },
   "outputs": [],
   "source": []
  },
  {
   "cell_type": "code",
   "execution_count": null,
   "metadata": {
    "vscode": {
     "languageId": "plaintext"
    }
   },
   "outputs": [],
   "source": []
  }
 ],
 "metadata": {
  "language_info": {
   "name": "python"
  }
 },
 "nbformat": 4,
 "nbformat_minor": 2
}

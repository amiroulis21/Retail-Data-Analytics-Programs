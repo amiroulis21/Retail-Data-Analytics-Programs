{
 "cells": [
  {
   "cell_type": "code",
   "execution_count": 1,
   "metadata": {},
   "outputs": [],
   "source": [
    "# Re-import necessary libraries as execution state was reset\n",
    "import pandas as pd\n",
    "import numpy as np\n",
    "import matplotlib.pyplot as plt"
   ]
  },
  {
   "cell_type": "code",
   "execution_count": 2,
   "metadata": {},
   "outputs": [],
   "source": [
    "# Generate a synthetic dataset of customer transactions\n",
    "np.random.seed(42)\n",
    "num_customers = 200\n",
    "num_transactions = 1000"
   ]
  },
  {
   "cell_type": "code",
   "execution_count": 3,
   "metadata": {},
   "outputs": [],
   "source": [
    "# Generate random customer IDs\n",
    "customer_ids = [f\"CUST{str(i).zfill(4)}\" for i in range(1, num_customers + 1)]\n",
    "\n",
    "# Generate random transaction data\n",
    "data = []\n",
    "for _ in range(num_transactions):\n",
    "    customer_id = np.random.choice(customer_ids)\n",
    "    transaction_date = pd.Timestamp(\"2024-01-01\") + pd.to_timedelta(np.random.randint(0, 90), unit='D')\n",
    "    transaction_amount = round(np.random.uniform(5, 500), 2)\n",
    "    data.append([customer_id, transaction_date, transaction_amount])"
   ]
  },
  {
   "cell_type": "code",
   "execution_count": 4,
   "metadata": {},
   "outputs": [],
   "source": [
    "# Create DataFrame\n",
    "df = pd.DataFrame(data, columns=[\"Customer_ID\", \"Transaction_Date\", \"Transaction_Amount\"])\n",
    "\n",
    "# Ensure data is sorted\n",
    "df = df.sort_values(by=[\"Customer_ID\", \"Transaction_Date\"])"
   ]
  },
  {
   "cell_type": "code",
   "execution_count": 5,
   "metadata": {},
   "outputs": [],
   "source": [
    "# 1. Classify High-Spending vs Occasional Customers\n",
    "customer_spending = df.groupby(\"Customer_ID\")[\"Transaction_Amount\"].sum().reset_index()\n",
    "customer_spending[\"Customer_Type\"] = np.where(customer_spending[\"Transaction_Amount\"] > 2000, \"High-Spender\", \"Occasional\")"
   ]
  },
  {
   "cell_type": "code",
   "execution_count": 6,
   "metadata": {},
   "outputs": [],
   "source": [
    "# 2. Identify Customer Buying Patterns (Avg Transactions per Month)\n",
    "df[\"Month\"] = df[\"Transaction_Date\"].dt.to_period(\"M\")\n",
    "customer_monthly_purchases = df.groupby([\"Customer_ID\", \"Month\"]).size().reset_index(name=\"Transactions_Per_Month\")\n",
    "avg_transactions_per_month = customer_monthly_purchases.groupby(\"Customer_ID\")[\"Transactions_Per_Month\"].mean().reset_index()\n",
    "avg_transactions_per_month.columns = [\"Customer_ID\", \"Avg_Transactions_Per_Month\"]"
   ]
  },
  {
   "cell_type": "code",
   "execution_count": 7,
   "metadata": {},
   "outputs": [],
   "source": [
    "# 3. Find VIP Customers for Marketing Campaigns (Top 10% Spenders)\n",
    "vip_threshold = customer_spending[\"Transaction_Amount\"].quantile(0.90)\n",
    "customer_spending[\"VIP_Customer\"] = np.where(customer_spending[\"Transaction_Amount\"] >= vip_threshold, 1, 0)"
   ]
  },
  {
   "cell_type": "code",
   "execution_count": 8,
   "metadata": {},
   "outputs": [
    {
     "data": {
      "image/png": "[encoded data removed]",
      "text/plain": [
       "<Figure size 1000x500 with 1 Axes>"
      ]
     },
     "metadata": {},
     "output_type": "display_data"
    }
   ],
   "source": [
    "# Merge the classifications into the main dataset\n",
    "customer_analysis = customer_spending.merge(avg_transactions_per_month, on=\"Customer_ID\")\n",
    "\n",
    "# Plot Spending Distribution\n",
    "plt.figure(figsize=(10, 5))\n",
    "plt.hist(customer_spending[\"Transaction_Amount\"], bins=20, color=\"skyblue\", edgecolor=\"black\")\n",
    "plt.axvline(vip_threshold, color='red', linestyle='dashed', linewidth=2, label=\"VIP Threshold\")\n",
    "plt.xlabel(\"Total Transaction Amount ($)\")\n",
    "plt.ylabel(\"Number of Customers\")\n",
    "plt.title(\"Customer Spending Distribution\")\n",
    "plt.legend()\n",
    "plt.show()"
   ]
  },
  {
   "cell_type": "code",
   "execution_count": 9,
   "metadata": {},
   "outputs": [
    {
     "data": {
      "text/html": [
       "<div>\n",
       "<style scoped>\n",
       "    .dataframe tbody tr th:only-of-type {\n",
       "        vertical-align: middle;\n",
       "    }\n",
       "\n",
       "    .dataframe tbody tr th {\n",
       "        vertical-align: top;\n",
       "    }\n",
       "\n",
       "    .dataframe thead th {\n",
       "        text-align: right;\n",
       "    }\n",
       "</style>\n",
       "<table border=\"1\" class=\"dataframe\">\n",
       "  <thead>\n",
       "    <tr style=\"text-align: right;\">\n",
       "      <th></th>\n",
       "      <th>Customer_ID</th>\n",
       "      <th>Transaction_Date</th>\n",
       "      <th>Transaction_Amount</th>\n",
       "      <th>Month</th>\n",
       "    </tr>\n",
       "  </thead>\n",
       "  <tbody>\n",
       "    <tr>\n",
       "      <th>602</th>\n",
       "      <td>CUST0001</td>\n",
       "      <td>2024-02-04</td>\n",
       "      <td>228.84</td>\n",
       "      <td>2024-02</td>\n",
       "    </tr>\n",
       "    <tr>\n",
       "      <th>344</th>\n",
       "      <td>CUST0001</td>\n",
       "      <td>2024-02-15</td>\n",
       "      <td>121.77</td>\n",
       "      <td>2024-02</td>\n",
       "    </tr>\n",
       "    <tr>\n",
       "      <th>520</th>\n",
       "      <td>CUST0001</td>\n",
       "      <td>2024-02-27</td>\n",
       "      <td>447.58</td>\n",
       "      <td>2024-02</td>\n",
       "    </tr>\n",
       "    <tr>\n",
       "      <th>146</th>\n",
       "      <td>CUST0001</td>\n",
       "      <td>2024-03-09</td>\n",
       "      <td>343.56</td>\n",
       "      <td>2024-03</td>\n",
       "    </tr>\n",
       "    <tr>\n",
       "      <th>793</th>\n",
       "      <td>CUST0002</td>\n",
       "      <td>2024-01-29</td>\n",
       "      <td>344.22</td>\n",
       "      <td>2024-01</td>\n",
       "    </tr>\n",
       "    <tr>\n",
       "      <th>...</th>\n",
       "      <td>...</td>\n",
       "      <td>...</td>\n",
       "      <td>...</td>\n",
       "      <td>...</td>\n",
       "    </tr>\n",
       "    <tr>\n",
       "      <th>760</th>\n",
       "      <td>CUST0200</td>\n",
       "      <td>2024-02-18</td>\n",
       "      <td>308.90</td>\n",
       "      <td>2024-02</td>\n",
       "    </tr>\n",
       "    <tr>\n",
       "      <th>686</th>\n",
       "      <td>CUST0200</td>\n",
       "      <td>2024-02-19</td>\n",
       "      <td>341.67</td>\n",
       "      <td>2024-02</td>\n",
       "    </tr>\n",
       "    <tr>\n",
       "      <th>194</th>\n",
       "      <td>CUST0200</td>\n",
       "      <td>2024-03-01</td>\n",
       "      <td>412.28</td>\n",
       "      <td>2024-03</td>\n",
       "    </tr>\n",
       "    <tr>\n",
       "      <th>986</th>\n",
       "      <td>CUST0200</td>\n",
       "      <td>2024-03-01</td>\n",
       "      <td>358.45</td>\n",
       "      <td>2024-03</td>\n",
       "    </tr>\n",
       "    <tr>\n",
       "      <th>207</th>\n",
       "      <td>CUST0200</td>\n",
       "      <td>2024-03-16</td>\n",
       "      <td>57.84</td>\n",
       "      <td>2024-03</td>\n",
       "    </tr>\n",
       "  </tbody>\n",
       "</table>\n",
       "<p>1000 rows × 4 columns</p>\n",
       "</div>"
      ],
      "text/plain": [
       "    Customer_ID Transaction_Date  Transaction_Amount    Month\n",
       "602    CUST0001       2024-02-04              228.84  2024-02\n",
       "344    CUST0001       2024-02-15              121.77  2024-02\n",
       "520    CUST0001       2024-02-27              447.58  2024-02\n",
       "146    CUST0001       2024-03-09              343.56  2024-03\n",
       "793    CUST0002       2024-01-29              344.22  2024-01\n",
       "..          ...              ...                 ...      ...\n",
       "760    CUST0200       2024-02-18              308.90  2024-02\n",
       "686    CUST0200       2024-02-19              341.67  2024-02\n",
       "194    CUST0200       2024-03-01              412.28  2024-03\n",
       "986    CUST0200       2024-03-01              358.45  2024-03\n",
       "207    CUST0200       2024-03-16               57.84  2024-03\n",
       "\n",
       "[1000 rows x 4 columns]"
      ]
     },
     "execution_count": 9,
     "metadata": {},
     "output_type": "execute_result"
    }
   ],
   "source": [
    "df"
   ]
  }
 ],
 "metadata": {
  "kernelspec": {
   "display_name": "base",
   "language": "python",
   "name": "python3"
  },
  "language_info": {
   "codemirror_mode": {
    "name": "ipython",
    "version": 3
   },
   "file_extension": ".py",
   "mimetype": "text/x-python",
   "name": "python",
   "nbconvert_exporter": "python",
   "pygments_lexer": "ipython3",
   "version": "3.11.5"
  }
 },
 "nbformat": 4,
 "nbformat_minor": 2
}
